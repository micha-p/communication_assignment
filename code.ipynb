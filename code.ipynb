{
 "cells": [
  {
   "cell_type": "markdown",
   "metadata": {},
   "source": [
    "Reading the data"
   ]
  },
  {
   "cell_type": "code",
   "execution_count": null,
   "metadata": {
    "collapsed": true
   },
   "outputs": [],
   "source": [
    "require(readr)\n",
    "trainSF <- read_csv(\"sanfrancisco_incidents_summer_2014.csv\")\n",
    "trainSEA <- read_csv(\"seattle_incidents_summer_2014.csv\")\n"
   ]
  },
  {
   "cell_type": "markdown",
   "metadata": {},
   "source": [
    "Converting the hours: When start and end points are given, a kind of mean is calculated"
   ]
  },
  {
   "cell_type": "code",
   "execution_count": null,
   "metadata": {
    "collapsed": true
   },
   "outputs": [],
   "source": [
    "require(lubridate)\n",
    "trainSF$hour <- hour(hm(trainSF$Time))\n",
    "trainSEA$hourS <- hour(mdy_hms(trainSEA$\"Occurred Date or Date Range Start\"))\n",
    "trainSEA$hourE <- hour(mdy_hms(trainSEA$\"Occurred Date Range End\"))\n",
    "trainSEA$hour <- floor((trainSEA$hourS + pmax(trainSEA$hourE,trainSEA$hourS,na.rm=TRUE)) / 2)"
   ]
  },
  {
   "cell_type": "markdown",
   "metadata": {},
   "source": [
    "Counting by hour: dplyr is a functional approach to data handling upporting a pipeline syntax \n",
    "https://cran.rstudio.com/web/packages/dplyr/vignettes/introduction.html"
   ]
  },
  {
   "cell_type": "code",
   "execution_count": null,
   "metadata": {
    "collapsed": true
   },
   "outputs": [],
   "source": [
    "byhourSF <- trainSF %>% group_by(hour) %>% summarise(total = n())\n",
    "byhourSEA <- trainSEA %>% group_by(hour) %>% summarise(total = n())"
   ]
  },
  {
   "cell_type": "markdown",
   "metadata": {},
   "source": [
    "Plotting Seattle in blue, San Fransisco in red"
   ]
  },
  {
   "cell_type": "code",
   "execution_count": null,
   "metadata": {
    "collapsed": true
   },
   "outputs": [],
   "source": [
    "require(ggplot2)\n",
    "p <- ggplot(byhourSF, aes(x = hour, y = total)) + geom_line(color=\"red\")\n",
    "p <- p + geom_line(data=byhourSEA,color=\"blue\")\n",
    "ggsave(\"hour.png\", p, width=14, height=10, units=\"in\") \n",
    "p"
   ]
  },
  {
   "cell_type": "markdown",
   "metadata": {},
   "source": [
    "Map plotting: "
   ]
  },
  {
   "cell_type": "code",
   "execution_count": null,
   "metadata": {
    "collapsed": true
   },
   "outputs": [],
   "source": [
    "require(ggmap)\n",
    "#mapSF<-get_map(location=\"sanfrancisco\",zoom=12,source=\"osm\",maptype = \"roadmap\", color = \"bw\")\n",
    "#mapSEA<-get_map(location=\"seattle\",zoom=12,source=\"osm\",maptype = \"roadmap\", color = \"bw\")\n",
    "#saveRDS(mapSF,\"openstreetmapSF.rds\")\n",
    "#saveRDS(mapSEA,\"openstreetmapSEA.rds\")\n",
    "mapSF <- readRDS(\"openstreetmapSF.rds\")\n",
    "mapSEA <- readRDS(\"openstreetmapSEA.rds\")"
   ]
  },
  {
   "cell_type": "markdown",
   "metadata": {},
   "source": [
    "Some ideas taken from    \n",
    "https://www.kaggle.com/benhamner/sf-crime/san-francisco-top-crimes-map/files\n"
   ]
  },
  {
   "cell_type": "code",
   "execution_count": null,
   "metadata": {
    "collapsed": true
   },
   "outputs": [],
   "source": [
    "trainSEA$Category <- trainSEA$\"Offense Type\"\n",
    "countsSF <- trainSF %>% group_by(Category) %>% summarise(Counts=length(Category))\n",
    "countsSF <- countsSF[order(-countsSF$Counts),]\n",
    "countsSEA <- trainSEA %>% group_by(Category) %>% summarise(Counts=length(Category))\n",
    "countsSEA <- countsSEA[order(-countsSEA$Counts),]\n",
    "# This removes the \"Other Offenses\" category\n",
    "topSF <- trainSF[trainSF$Category %in% countsSF$Category[c(1,3:21)],]\n",
    "# This removes the \"PROPERTY FOUND\" category\n",
    "topSEA <- trainSEA[trainSEA$Category %in% countsSEA$Category[c(1:8,10:21)],]\n",
    "\n",
    "p <- ggmap(mapSF) +\n",
    "     geom_point(data=topSF, aes(x=X, y=Y, color=factor(Category)), alpha=0.05) +\n",
    "     guides(colour = guide_legend(override.aes = list(alpha=1.0, size=6.0)))\n",
    "     # + scale_colour_brewer(type=\"qual\",palette=\"Paired\")\n",
    "ggsave(\"mapSF.png\", p, width=14, height=10, units=\"in\")\n",
    "p <- ggmap(mapSEA) +\n",
    "     geom_point(data=topSEA, aes(x=Longitude, y=Latitude, color=factor(Category)), alpha=0.05) +\n",
    "     guides(colour = guide_legend(override.aes = list(alpha=1.0, size=6.0)))\n",
    "     # + scale_colour_brewer(type=\"qual\",palette=\"Paired\")\n",
    "ggsave(\"mapSEA.png\", p, width=14, height=10, units=\"in\")"
   ]
  }
 ],
 "metadata": {
  "kernelspec": {
   "display_name": "R",
   "language": "R",
   "name": "ir"
  }
 },
 "nbformat": 4,
 "nbformat_minor": 0
}
