{
 "cells": [
  {
   "cell_type": "markdown",
   "metadata": {},
   "source": [
    "Reading the data"
   ]
  },
  {
   "cell_type": "code",
   "execution_count": null,
   "metadata": {
    "collapsed": true
   },
   "outputs": [],
   "source": [
    "require(readr)\n",
    "trainSF <- read_csv(\"sanfrancisco_incidents_summer_2014.csv\")\n",
    "trainSEA <- read_csv(\"seattle_incidents_summer_2014.csv\")\n"
   ]
  },
  {
   "cell_type": "markdown",
   "metadata": {},
   "source": [
    "Converting the hours: When start and end points are given, a kind of mean is calculated"
   ]
  },
  {
   "cell_type": "code",
   "execution_count": null,
   "metadata": {
    "collapsed": true
   },
   "outputs": [],
   "source": [
    "require(lubridate)\n",
    "trainSF$hour <- hour(hm(trainSF$Time))\n",
    "trainSEA$hourS <- hour(mdy_hms(trainSEA$\"Occurred Date or Date Range Start\"))\n",
    "trainSEA$hourE <- hour(mdy_hms(trainSEA$\"Occurred Date Range End\"))\n",
    "trainSEA$hour <- floor((trainSEA$hourS + pmax(trainSEA$hourE,trainSEA$hourS,na.rm=TRUE)) / 2)"
   ]
  },
  {
   "cell_type": "markdown",
   "metadata": {},
   "source": [
    "Counting by hour: dplyr is a functional approach to data handling upporting a pipeline syntax \n",
    "https://cran.rstudio.com/web/packages/dplyr/vignettes/introduction.html"
   ]
  },
  {
   "cell_type": "code",
   "execution_count": null,
   "metadata": {
    "collapsed": true
   },
   "outputs": [],
   "source": [
    "byhourSF <- trainSF %>% group_by(hour) %>% summarise(total = n())\n",
    "byhourSEA <- trainSEA %>% group_by(hour) %>% summarise(total = n())"
   ]
  },
  {
   "cell_type": "markdown",
   "metadata": {},
   "source": [
    "Plotting Seattle in blue, San Fransisco in red"
   ]
  },
  {
   "cell_type": "code",
   "execution_count": null,
   "metadata": {
    "collapsed": true
   },
   "outputs": [],
   "source": [
    "require(ggplot2)\n",
    "p <- ggplot(byhourSF, aes(x = hour, y = total)) + geom_line(color=\"red\")\n",
    "p <- p + geom_line(data=byhourSEA,color=\"blue\")\n",
    "ggsave(\"hour.png\", p, width=14, height=10, units=\"in\")\n",
    "p"
   ]
  },
  {
   "cell_type": "markdown",
   "metadata": {},
   "source": [
    "Map plotting: "
   ]
  },
  {
   "cell_type": "markdown",
   "metadata": {},
   "source": [
    "Ideas taken from\n",
    "https://www.kaggle.com/benhamner/sf-crime/san-francisco-top-crimes-map/files\n"
   ]
  }
 ],
 "metadata": {
  "kernelspec": {
   "display_name": "R",
   "language": "R",
   "name": "ir"
  }
 },
 "nbformat": 4,
 "nbformat_minor": 0
}
